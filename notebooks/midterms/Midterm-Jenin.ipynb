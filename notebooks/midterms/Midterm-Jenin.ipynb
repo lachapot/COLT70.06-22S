{
 "cells": [
  {
   "cell_type": "code",
   "execution_count": 6,
   "id": "10938c93-3ce7-4572-894d-2ccc8dabe6b8",
   "metadata": {},
   "outputs": [
    {
     "name": "stdout",
     "output_type": "stream",
     "text": [
      "hello \n"
     ]
    }
   ],
   "source": [
    "my_string = 'hello '\n",
    "print(my_string)"
   ]
  },
  {
   "cell_type": "code",
   "execution_count": 7,
   "id": "fb480457-c616-4eff-8e73-2c1a2be6a0d0",
   "metadata": {},
   "outputs": [],
   "source": [
    "# my_string = my_string + \"gorgeous\"\n",
    "# print(my_string)"
   ]
  },
  {
   "cell_type": "code",
   "execution_count": 8,
   "id": "5655be79-45e8-4841-8f0d-506d9e8e4c4d",
   "metadata": {},
   "outputs": [
    {
     "name": "stdout",
     "output_type": "stream",
     "text": [
      "hello gorgeous\n"
     ]
    }
   ],
   "source": [
    "my_string += \"gorgeous\"\n",
    "print(my_string)"
   ]
  },
  {
   "cell_type": "code",
   "execution_count": 15,
   "id": "18029e27-28ca-4061-be89-0fe6ba0c54b5",
   "metadata": {},
   "outputs": [],
   "source": [
    "text_names = [\n",
    "    \"https://www.publicbooks.org/justice-for-data-janitors/\", \n",
    "    \"https://www.agriculture.com/technology/robotics/how-automation-will-transform-farming\", \n",
    "    \"https://quod.lib.umich.edu/m/mij/15031809.0001.107/-on-automation-in-media-industries-integrating-algorithmic?rgn=main;view=fulltext\", \n",
    "    \"https://hbr.org/2018/12/5-questions-we-should-be-asking-about-automation-and-jobs\", \n",
    "    \"https://roboticsandautomationnews.com/2020/06/17/top-5-industries-that-will-be-transformed-by-robotics-and-automation/33221/\", \"https://www.businessnewsdaily.com/9835-automation-tech-workforce.html\", \"https://www.mckinsey.com/industries/retail/our-insights/automation-in-retail-an-executive-overview-for-getting-ready\", \"https://www.mckinsey.com/industries/life-sciences/our-insights/automation-and-the-future-of-work-in-the-us-biopharma-industry\", \"https://mitsloan.mit.edu/ideas-made-to-matter/a-new-study-measures-actual-impact-robots-jobs-its-significant\", \"https://leb.fbi.gov/articles/featured-articles/automated-threat-detection-and-the-future-of-policing\", \"https://easternpeak.com/blog/smart-farming-how-automation-is-transforming-agriculture/\", \"https://www.mckinsey.com/featured-insights/future-of-work/ai-automation-and-the-future-of-work-ten-things-to-solve-for\", \"https://ancillaryreviewofbooks.org/2021/08/04/dont-blame-the-robots-review-of-automation-and-the-future-of-work-by-aaron-benanav/\", \"https://www.publicbooks.org/do-images-still-help-us-see/\", \"https://www.publicbooks.org/invisible-algorithms-invisible-politics/\", \"https://www.brookings.edu/blog/techtank/2017/05/18/automation-presents-a-political-challenge-but-also-an-opportunity/\", \"https://www.britannica.com/technology/automation/Manufacturing-applications-of-automation-and-robotics\", \"https://www.publicbooks.org/dependent-contractors/\", \"https://www.publicbooks.org/can-drones-have-ethics/\", \"https://www.publicbooks.org/prison-tech-comes-home/\", \"https://emeritus.org/blog/pros-and-cons-of-automation-in-the-workplace/#:~:text=Put%20simply%2C%20workplace%20automation%20refers,processes%20using%20software%20and%20algorithms.\", \"https://www.brookings.edu/research/automation-and-artificial-intelligence-how-machines-affect-people-and-places/\", \"https://www.mckinsey.com/industries/travel-logistics-and-infrastructure/our-insights/automation-in-logistics-big-opportunity-bigger-uncertainty\", \"https://www.mckinsey.com/featured-insights/future-of-work/how-will-automation-affect-jobs-skills-and-wages\", \"https://hbr.org/2022/02/research-how-do-warehouse-workers-feel-about-automation\", \n",
    "    \"https://hbr.org/2018/08/3-kinds-of-jobs-that-will-thrive-as-automation-advances\"\n",
    "]"
   ]
  },
  {
   "cell_type": "code",
   "execution_count": 21,
   "id": "3fdf2610-b991-4211-967b-1926ea97874c",
   "metadata": {},
   "outputs": [
    {
     "name": "stdout",
     "output_type": "stream",
     "text": [
      "https://www.publicbooks.org/justice-for-data-janitors/\n",
      "https://www.agriculture.com/technology/robotics/how-automation-will-transform-farming\n",
      "https://quod.lib.umich.edu/m/mij/15031809.0001.107/-on-automation-in-media-industries-integrating-algorithmic?rgn=main;view=fulltext\n",
      "https://hbr.org/2018/12/5-questions-we-should-be-asking-about-automation-and-jobs\n",
      "https://roboticsandautomationnews.com/2020/06/17/top-5-industries-that-will-be-transformed-by-robotics-and-automation/33221/\n",
      "https://www.businessnewsdaily.com/9835-automation-tech-workforce.html\n",
      "https://www.mckinsey.com/industries/retail/our-insights/automation-in-retail-an-executive-overview-for-getting-ready\n",
      "https://www.mckinsey.com/industries/life-sciences/our-insights/automation-and-the-future-of-work-in-the-us-biopharma-industry\n",
      "https://mitsloan.mit.edu/ideas-made-to-matter/a-new-study-measures-actual-impact-robots-jobs-its-significant\n",
      "https://leb.fbi.gov/articles/featured-articles/automated-threat-detection-and-the-future-of-policing\n",
      "https://easternpeak.com/blog/smart-farming-how-automation-is-transforming-agriculture/\n",
      "https://www.mckinsey.com/featured-insights/future-of-work/ai-automation-and-the-future-of-work-ten-things-to-solve-for\n",
      "https://ancillaryreviewofbooks.org/2021/08/04/dont-blame-the-robots-review-of-automation-and-the-future-of-work-by-aaron-benanav/\n",
      "https://www.publicbooks.org/do-images-still-help-us-see/\n",
      "https://www.publicbooks.org/invisible-algorithms-invisible-politics/\n",
      "https://www.brookings.edu/blog/techtank/2017/05/18/automation-presents-a-political-challenge-but-also-an-opportunity/\n",
      "https://www.britannica.com/technology/automation/Manufacturing-applications-of-automation-and-robotics\n",
      "https://www.publicbooks.org/dependent-contractors/\n",
      "https://www.publicbooks.org/can-drones-have-ethics/\n",
      "https://www.publicbooks.org/prison-tech-comes-home/\n",
      "https://emeritus.org/blog/pros-and-cons-of-automation-in-the-workplace/#:~:text=Put%20simply%2C%20workplace%20automation%20refers,processes%20using%20software%20and%20algorithms.\n",
      "https://www.brookings.edu/research/automation-and-artificial-intelligence-how-machines-affect-people-and-places/\n",
      "https://www.mckinsey.com/industries/travel-logistics-and-infrastructure/our-insights/automation-in-logistics-big-opportunity-bigger-uncertainty\n",
      "https://www.mckinsey.com/featured-insights/future-of-work/how-will-automation-affect-jobs-skills-and-wages\n",
      "https://hbr.org/2022/02/research-how-do-warehouse-workers-feel-about-automation\n",
      "https://hbr.org/2018/08/3-kinds-of-jobs-that-will-thrive-as-automation-advances\n"
     ]
    }
   ],
   "source": [
    "for entry in text_names:\n",
    "    print(entry)"
   ]
  },
  {
   "cell_type": "code",
   "execution_count": 23,
   "id": "36ada376-f05e-4ce3-bc92-66ac0d0dd7fc",
   "metadata": {},
   "outputs": [
    {
     "name": "stdout",
     "output_type": "stream",
     "text": [
      "text_0.txt https://www.publicbooks.org/justice-for-data-janitors/\n",
      "text_1.txt https://www.agriculture.com/technology/robotics/how-automation-will-transform-farming\n",
      "text_2.txt https://quod.lib.umich.edu/m/mij/15031809.0001.107/-on-automation-in-media-industries-integrating-algorithmic?rgn=main;view=fulltext\n",
      "text_3.txt https://hbr.org/2018/12/5-questions-we-should-be-asking-about-automation-and-jobs\n",
      "text_4.txt https://roboticsandautomationnews.com/2020/06/17/top-5-industries-that-will-be-transformed-by-robotics-and-automation/33221/\n",
      "text_5.txt https://www.businessnewsdaily.com/9835-automation-tech-workforce.html\n",
      "text_6.txt https://www.mckinsey.com/industries/retail/our-insights/automation-in-retail-an-executive-overview-for-getting-ready\n",
      "text_7.txt https://www.mckinsey.com/industries/life-sciences/our-insights/automation-and-the-future-of-work-in-the-us-biopharma-industry\n",
      "text_8.txt https://mitsloan.mit.edu/ideas-made-to-matter/a-new-study-measures-actual-impact-robots-jobs-its-significant\n",
      "text_9.txt https://leb.fbi.gov/articles/featured-articles/automated-threat-detection-and-the-future-of-policing\n",
      "text_10.txt https://easternpeak.com/blog/smart-farming-how-automation-is-transforming-agriculture/\n",
      "text_11.txt https://www.mckinsey.com/featured-insights/future-of-work/ai-automation-and-the-future-of-work-ten-things-to-solve-for\n",
      "text_12.txt https://ancillaryreviewofbooks.org/2021/08/04/dont-blame-the-robots-review-of-automation-and-the-future-of-work-by-aaron-benanav/\n",
      "text_13.txt https://www.publicbooks.org/do-images-still-help-us-see/\n",
      "text_14.txt https://www.publicbooks.org/invisible-algorithms-invisible-politics/\n",
      "text_15.txt https://www.brookings.edu/blog/techtank/2017/05/18/automation-presents-a-political-challenge-but-also-an-opportunity/\n",
      "text_16.txt https://www.britannica.com/technology/automation/Manufacturing-applications-of-automation-and-robotics\n",
      "text_17.txt https://www.publicbooks.org/dependent-contractors/\n",
      "text_18.txt https://www.publicbooks.org/can-drones-have-ethics/\n",
      "text_19.txt https://www.publicbooks.org/prison-tech-comes-home/\n",
      "text_20.txt https://emeritus.org/blog/pros-and-cons-of-automation-in-the-workplace/#:~:text=Put%20simply%2C%20workplace%20automation%20refers,processes%20using%20software%20and%20algorithms.\n",
      "text_21.txt https://www.brookings.edu/research/automation-and-artificial-intelligence-how-machines-affect-people-and-places/\n",
      "text_22.txt https://www.mckinsey.com/industries/travel-logistics-and-infrastructure/our-insights/automation-in-logistics-big-opportunity-bigger-uncertainty\n",
      "text_23.txt https://www.mckinsey.com/featured-insights/future-of-work/how-will-automation-affect-jobs-skills-and-wages\n",
      "text_24.txt https://hbr.org/2022/02/research-how-do-warehouse-workers-feel-about-automation\n",
      "text_25.txt https://hbr.org/2018/08/3-kinds-of-jobs-that-will-thrive-as-automation-advances\n"
     ]
    }
   ],
   "source": [
    "num_texts = len(text_names)\n",
    "\n",
    "for i in range(num_texts):\n",
    "    text_name = text_names[i]\n",
    "    filename_for_this_text = f\"text_{i}.txt\"\n",
    "    print(filename_for_this_text, text_name)"
   ]
  },
  {
   "cell_type": "code",
   "execution_count": 25,
   "id": "4040d02f-dff0-4cea-b8b6-371fb44dbac1",
   "metadata": {},
   "outputs": [
    {
     "name": "stdout",
     "output_type": "stream",
     "text": [
      "0 a x\n",
      "1 b y\n",
      "2 c z\n"
     ]
    }
   ],
   "source": [
    "list_one = [\"a\", 'b', 'c']\n",
    "list_two = ['x', 'y', 'z']\n",
    "\n",
    "n = 3\n",
    "for i in range(n):\n",
    "    print(i, list_one[i], list_two[i])"
   ]
  },
  {
   "cell_type": "code",
   "execution_count": 26,
   "id": "957c8ff0-9d25-4073-8c40-ad0f9525baec",
   "metadata": {},
   "outputs": [],
   "source": [
    "from bs4 import BeautifulSoup\n",
    "import requests\n",
    "\n",
    "URLs_to_visit = [\n",
    "\"https://www.publicbooks.org/justice-for-data-janitors/\", \n",
    "\"https://www.agriculture.com/technology/robotics/how-automation-will-transform-farming\", \n",
    "\"https://quod.lib.umich.edu/m/mij/15031809.0001.107/-on-automation-in-media-industries-integrating-algorithmic?rgn=main;view=fulltext\"\n",
    "]\n",
    "\n",
    "# for links in URLs_to_visit:\n",
    "for i in range(len(URLs_to_visit)):\n",
    "    links = URLs_to_visit[i]\n",
    "    URL = links\n",
    "    page = requests.get(URL)\n",
    "    soup = BeautifulSoup(page.content, \"html.parser\")\n",
    "\n",
    "    result = soup.find_all('p')\n",
    "\n",
    "    text_files = [\"justice-for-data-janitors.tx\", \"how-automation-will-transform-farming.txt\", \"automation-in-media-industry\"]\n",
    "\n",
    "    # f = open(\"transcript-of-nuremberg-trials.txt\", \"a\")\n",
    "    f = open(text_files[i], \"w\")\n",
    "\n",
    "    for r in result:\n",
    "        f.write(r.text)\n",
    "    f.close()"
   ]
  },
  {
   "cell_type": "code",
   "execution_count": null,
   "id": "a8046e83-7036-48f0-9196-8039e269b6a5",
   "metadata": {},
   "outputs": [],
   "source": []
  }
 ],
 "metadata": {
  "kernelspec": {
   "display_name": "Python 3 (ipykernel)",
   "language": "python",
   "name": "python3"
  },
  "language_info": {
   "codemirror_mode": {
    "name": "ipython",
    "version": 3
   },
   "file_extension": ".py",
   "mimetype": "text/x-python",
   "name": "python",
   "nbconvert_exporter": "python",
   "pygments_lexer": "ipython3",
   "version": "3.9.10"
  }
 },
 "nbformat": 4,
 "nbformat_minor": 5
}
