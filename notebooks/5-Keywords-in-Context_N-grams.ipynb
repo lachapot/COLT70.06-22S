{
 "cells": [
  {
   "cell_type": "markdown",
   "id": "7cb4844f-df55-4404-a952-9f0d4ee1ddf3",
   "metadata": {},
   "source": [
    "# Keywords"
   ]
  },
  {
   "cell_type": "code",
   "execution_count": null,
   "id": "315be910-bff6-4d24-99c5-91d518b88423",
   "metadata": {},
   "outputs": [],
   "source": [
    "#Using spaCy to pull out sentences that contain a given keyword\n",
    "import spacy\n",
    "import re\n",
    "from IPython.display import Markdown, display\n",
    "\n",
    "#Download the language model you're interested in\n",
    "!python -m spacy download en_core_web_md"
   ]
  },
  {
   "cell_type": "code",
   "execution_count": null,
   "id": "9632f49e-17af-4582-a78d-766220fea786",
   "metadata": {},
   "outputs": [],
   "source": [
    "#Load language model\n",
    "nlp = spacy.load('en_core_web_md')\n",
    "#Create spaCy process document\n",
    "text = open('kafka_metamorphosis.txt', encoding='utf-8').read()\n",
    "document = nlp(text)\n",
    "\n",
    "def find_sentences_with_keyword(keyword, document):\n",
    "        for sentence in document.sents:\n",
    "            sentence = sentence.text\n",
    "            if keyword.lower() in sentence.lower():\n",
    "                #Use the regex library to replace linebreaks and to make the keyword bolded, ignoring capitalization\n",
    "                sentence = re.sub('\\n', ' ', sentence)\n",
    "                sentence = re.sub(f\"{keyword}\", f\"**{keyword}**\", sentence, flags=re.IGNORECASE)\n",
    "                display(Markdown(sentence))\n",
    "\n",
    "find_sentences_with_keyword(keyword='legs', document=document)"
   ]
  },
  {
   "cell_type": "markdown",
   "id": "07e240a0-2dbb-4707-871d-2443d84506e1",
   "metadata": {},
   "source": [
    "# Keywords in Context"
   ]
  },
  {
   "cell_type": "markdown",
   "id": "363f87fb-5058-4389-96f5-9bbd0e5f7067",
   "metadata": {},
   "source": [
    "n-grams: any sequence of n tokens, n number of words  \n",
    "N-grams are a way of representing groups of words as a single token."
   ]
  },
  {
   "cell_type": "code",
   "execution_count": null,
   "id": "8f28e25c-b4fd-465b-8e3a-9e3051e60a01",
   "metadata": {},
   "outputs": [],
   "source": [
    "def tokenize(text):\n",
    "    lowercase_text = text.lower()\n",
    "    split_words = re.split('\\W+', lowercase_text)\n",
    "    return split_words\n",
    "\n",
    "text = open('kafka_metamorphosis.txt', encoding=\"utf-8\").read()\n",
    "\n",
    "stopwords = ['i', 'me', 'my', 'myself', 'we', 'our', 'ours', 'ourselves', 'you', 'your', 'yours',\n",
    " 'yourself', 'yourselves', 'he', 'him', 'his', 'himself', 'she', 'her', 'hers',\n",
    " 'herself', 'it', 'its', 'itself', 'they', 'them', 'their', 'theirs', 'themselves',\n",
    " 'what', 'which', 'who', 'whom', 'this', 'that', 'these', 'those', 'am', 'is', 'are',\n",
    " 'was', 'were', 'be', 'been', 'being', 'have', 'has', 'had', 'having', 'do', 'does',\n",
    " 'did', 'doing', 'a', 'an', 'the', 'and', 'but', 'if', 'or', 'because', 'as', 'until',\n",
    " 'while', 'of', 'at', 'by', 'for', 'with', 'about', 'against', 'between', 'into',\n",
    " 'through', 'during', 'before', 'after', 'above', 'below', 'to', 'from', 'up', 'down',\n",
    " 'in', 'out', 'on', 'off', 'over', 'under', 'again', 'further', 'then', 'once', 'here',\n",
    " 'there', 'when', 'where', 'why', 'how', 'all', 'any', 'both', 'each', 'few', 'more',\n",
    " 'most', 'other', 'some', 'such', 'no', 'nor', 'not', 'only', 'own', 'same', 'so',\n",
    " 'than', 'too', 'very', 's', 't', 'can', 'will', 'just', 'don', 'should', 'now', 've', 'll']\n",
    "\n",
    "all_the_words = tokenize(text)\n",
    "\n",
    "tokens = [word for word in all_the_words if word not in stopwords]"
   ]
  },
  {
   "cell_type": "code",
   "execution_count": null,
   "id": "3367bdcd-9e45-409f-bac5-4eddcf3ea1c9",
   "metadata": {},
   "outputs": [],
   "source": [
    "#Define a function to return list of ngrams\n",
    "def make_ngrams(tokens, n):\n",
    "    ngrams = []\n",
    "    for i in range(len(tokens)-(n-1)):\n",
    "        ngrams.append(tokens[i:i+n])\n",
    "    return ngrams"
   ]
  },
  {
   "cell_type": "code",
   "execution_count": null,
   "id": "b8bec3c8-d126-4898-b111-e1c28de42a8c",
   "metadata": {
    "scrolled": true,
    "tags": []
   },
   "outputs": [],
   "source": [
    "#Displays words that appear around a particular word\n",
    "\n",
    "#Define a function to create a dictionary from n-grams, using middle word as the key.\n",
    "#To figure out the keyword for each n-gram we can use the index positions of the list.\n",
    "def ngrams_to_dictionary(ngrams):\n",
    "    keyindex = len(ngrams[0]) // 2\n",
    "\n",
    "    ngram_dictionary = {}\n",
    "\n",
    "    for ngram in ngrams:\n",
    "        if ngram[keyindex] not in ngram_dictionary:\n",
    "            ngram_dictionary[ngram[keyindex]] = [ngram]\n",
    "        else:\n",
    "            ngram_dictionary[ngram[keyindex]].append(ngram)\n",
    "    return ngram_dictionary\n",
    "\n",
    "ngrams = make_ngrams(tokens, 6)\n",
    "\n",
    "keyword_in_context = ngrams_to_dictionary(ngrams)\n",
    "\n",
    "keyword_in_context['sister']"
   ]
  },
  {
   "cell_type": "code",
   "execution_count": null,
   "id": "873169ec-a111-4ad0-b19b-c255fded5e4a",
   "metadata": {},
   "outputs": [],
   "source": [
    "#Make a function to return most frequent words that appear next to a particular keyword\n",
    "from collections import Counter\n",
    "def get_neighbor_words(keyword, ngrams):\n",
    "    \n",
    "    neighbor_words = []\n",
    "    keyword = keyword.lower()\n",
    "    \n",
    "    for ngram in ngrams:\n",
    "        if keyword in ngram:\n",
    "            for word in ngram:\n",
    "                if word != keyword:\n",
    "                        neighbor_words.append(word)\n",
    "    return Counter(neighbor_words).most_common()\n",
    "\n",
    "bigrams = make_ngrams(tokens,2)\n",
    "get_neighbor_words('legs', bigrams)"
   ]
  },
  {
   "cell_type": "markdown",
   "id": "4581b4d3-56b1-42ce-bc6a-9cf18162b57c",
   "metadata": {},
   "source": [
    "_Acknowledgements_: This notebook is inspired by Melanie Walsh’s [_Introduction to Cultural Analytics & Python_](https://melaniewalsh.github.io/Intro-Cultural-Analytics/05-Text-Analysis/Multilingual/Chinese/03-POS-Keywords-Chinese.html#keyword-extraction) and William Turkel and Adam Crymble's [\"Keywords in Context (using n-grams) with Python\"](https://programminghistorian.org/en/lessons/keywords-in-context-using-n-grams)."
   ]
  }
 ],
 "metadata": {
  "kernelspec": {
   "display_name": "Python 3 (ipykernel)",
   "language": "python",
   "name": "python3"
  },
  "language_info": {
   "codemirror_mode": {
    "name": "ipython",
    "version": 3
   },
   "file_extension": ".py",
   "mimetype": "text/x-python",
   "name": "python",
   "nbconvert_exporter": "python",
   "pygments_lexer": "ipython3",
   "version": "3.9.10"
  }
 },
 "nbformat": 4,
 "nbformat_minor": 5
}
