{
 "cells": [
  {
   "cell_type": "markdown",
   "id": "13dbcdf9-f73f-4a3d-9546-4ecebf4921ac",
   "metadata": {},
   "source": [
    "## Type/Token Ratio - lexical variety\n",
    "\n",
    "Token: all the words  \n",
    "Type: unique words  \n",
    "e.g. pear pear apple (3 tokens, two types)\n",
    "\n",
    "The Type/Token Ratio is the tokens (total number of all words) divided by the types (number of unique instances of words)\n",
    "\n",
    "A high TTR = high degree of lexical variation/vocabulary richness  \n",
    "A low TTR = low degree of lexical variation/vocabulary richness\n",
    "\n",
    "If TTR is high, there is a greater proportion of unique words relative to the total number of words, i.e. there is a greater number of different words being used, a more varied vocabulary is being used."
   ]
  },
  {
   "cell_type": "code",
   "execution_count": null,
   "id": "5d2e364d-fc29-422c-80fc-1eda3cc071e0",
   "metadata": {},
   "outputs": [],
   "source": [
    "import re\n",
    "\n",
    "def tokenize(text):\n",
    "    lowercase_text = text.lower()\n",
    "    split_words = re.split('\\W+', lowercase_text)\n",
    "    return split_words\n",
    "\n",
    "text = open('kafka_metamorphosis.txt', encoding=\"utf-8\").read()\n",
    "\n",
    "all_the_words = tokenize(text)\n",
    "\n",
    "unique_words = set(all_the_words)\n",
    "\n",
    "TTR = (len(unique_words) / len(all_the_words)) * 100\n",
    "TTR"
   ]
  },
  {
   "cell_type": "code",
   "execution_count": null,
   "id": "be8a5d1b-5c52-4fd2-ae43-ecdb01a76685",
   "metadata": {},
   "outputs": [],
   "source": [
    "#TTR with stopwords\n",
    "import re\n",
    "from collections import Counter\n",
    "\n",
    "def tokenize(text):\n",
    "    lowercase_text = text.lower()\n",
    "    split_words = re.split('\\W+', lowercase_text)\n",
    "    return split_words\n",
    "\n",
    "text = open('kafka_metamorphosis.txt', encoding=\"utf-8\").read()\n",
    "\n",
    "stopwords = ['i', 'me', 'my', 'myself', 'we', 'our', 'ours', 'ourselves', 'you', 'your', 'yours',\n",
    " 'yourself', 'yourselves', 'he', 'him', 'his', 'himself', 'she', 'her', 'hers',\n",
    " 'herself', 'it', 'its', 'itself', 'they', 'them', 'their', 'theirs', 'themselves',\n",
    " 'what', 'which', 'who', 'whom', 'this', 'that', 'these', 'those', 'am', 'is', 'are',\n",
    " 'was', 'were', 'be', 'been', 'being', 'have', 'has', 'had', 'having', 'do', 'does',\n",
    " 'did', 'doing', 'a', 'an', 'the', 'and', 'but', 'if', 'or', 'because', 'as', 'until',\n",
    " 'while', 'of', 'at', 'by', 'for', 'with', 'about', 'against', 'between', 'into',\n",
    " 'through', 'during', 'before', 'after', 'above', 'below', 'to', 'from', 'up', 'down',\n",
    " 'in', 'out', 'on', 'off', 'over', 'under', 'again', 'further', 'then', 'once', 'here',\n",
    " 'there', 'when', 'where', 'why', 'how', 'all', 'any', 'both', 'each', 'few', 'more',\n",
    " 'most', 'other', 'some', 'such', 'no', 'nor', 'not', 'only', 'own', 'same', 'so',\n",
    " 'than', 'too', 'very', 's', 't', 'can', 'will', 'just', 'don', 'should', 'now', 've', 'll']\n",
    "\n",
    "all_the_words = tokenize(text)\n",
    "\n",
    "meaningful_words = [word for word in all_the_words if word not in stopwords]\n",
    "\n",
    "unique_words = set(meaningful_words)\n",
    "\n",
    "TTR = (len(unique_words) / len(meaningful_words)) * 100\n",
    "TTR"
   ]
  },
  {
   "cell_type": "markdown",
   "id": "4ce42c12-1d14-475c-8c5e-f5698d8cb82b",
   "metadata": {},
   "source": [
    "Is this surprising? Does this prompt you to ask other questions? For example, does lexical variety change over the course of the text? How would you go about analyzing this? (Note that, because language often repeats a lot of words (e.g. function words), a sample of 100 words will have more unique words than a sample of 1,000. So, it's possible to compare 100 words from one chunk of text to 100 words from another, but because language is finite and repetitive, analyses will be skwewed if we compare 100 words from one to 200 words from another.)"
   ]
  }
 ],
 "metadata": {
  "kernelspec": {
   "display_name": "Python 3 (ipykernel)",
   "language": "python",
   "name": "python3"
  },
  "language_info": {
   "codemirror_mode": {
    "name": "ipython",
    "version": 3
   },
   "file_extension": ".py",
   "mimetype": "text/x-python",
   "name": "python",
   "nbconvert_exporter": "python",
   "pygments_lexer": "ipython3",
   "version": "3.9.10"
  }
 },
 "nbformat": 4,
 "nbformat_minor": 5
}
