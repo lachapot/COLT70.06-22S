{
 "cells": [
  {
   "cell_type": "code",
   "execution_count": 1,
   "id": "957c8ff0-9d25-4073-8c40-ad0f9525baec",
   "metadata": {},
   "outputs": [],
   "source": [
    "from bs4 import BeautifulSoup\n",
    "import requests\n",
    "\n",
    "URLs_to_visit = [\n",
    "\"https://www.publicbooks.org/justice-for-data-janitors/\", \n",
    "\"https://www.agriculture.com/technology/robotics/how-automation-will-transform-farming\", \n",
    "\"https://quod.lib.umich.edu/m/mij/15031809.0001.107/-on-automation-in-media-industries-integrating-algorithmic?rgn=main;view=fulltext\"\n",
    "]\n",
    "\n",
    "# for links in URLs_to_visit:\n",
    "for i in range(len(URLs_to_visit)):\n",
    "    links = URLs_to_visit[i]\n",
    "    URL = links\n",
    "    page = requests.get(URL)\n",
    "    soup = BeautifulSoup(page.content, \"html.parser\")\n",
    "\n",
    "    result = soup.find_all('p')\n",
    "\n",
    "    text_files = [\"justice-for-data-janitors.txt\", \"how-automation-will-transform-farming.txt\", \"automation-in-media-industry.txt\"]\n",
    "\n",
    "    f = open(text_files[i], \"w\")\n",
    "\n",
    "    for r in result:\n",
    "        f.write(r.text)\n",
    "    f.close()"
   ]
  },
  {
   "cell_type": "code",
   "execution_count": null,
   "id": "a8046e83-7036-48f0-9196-8039e269b6a5",
   "metadata": {},
   "outputs": [],
   "source": []
  }
 ],
 "metadata": {
  "kernelspec": {
   "display_name": "Python 3 (ipykernel)",
   "language": "python",
   "name": "python3"
  },
  "language_info": {
   "codemirror_mode": {
    "name": "ipython",
    "version": 3
   },
   "file_extension": ".py",
   "mimetype": "text/x-python",
   "name": "python",
   "nbconvert_exporter": "python",
   "pygments_lexer": "ipython3",
   "version": "3.9.10"
  }
 },
 "nbformat": 4,
 "nbformat_minor": 5
}
