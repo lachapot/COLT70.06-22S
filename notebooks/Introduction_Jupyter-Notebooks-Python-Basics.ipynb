{
 "cells": [
  {
   "cell_type": "markdown",
   "id": "c5ad3708-ed6d-4ffd-83e8-0865e517a610",
   "metadata": {
    "tags": []
   },
   "source": [
    "# JupyterHub\n",
    "\n",
    "### Acessing JupyterHub\n",
    "\n",
    "Got to https://jhub.dartmouth.edu/  \n",
    "Log in using your university credentials  \n",
    "Click \"start my server\" \n",
    "Select \"COLT 70 -- Spring 2022\"  \n",
    "It may take some time for the server to start up  \n",
    "The notebooks are in the \"notebooks\" directory on the left  \n",
    "Double click the notebook you want to open\n",
    "\n",
    "### Editing a Notebook\n",
    "\n",
    "At this point you can only view a notebook. In order to be able to edit the notebook:  \n",
    "> right click on the notebook file (listed on the left) > copy > double click on your home directory (by click the directory icon above the list of notebooks) > past notebook  \n",
    "\n",
    "You should now be able to edit and run the cells of the notebook\n",
    "\n",
    "### Uploading files\n",
    "\n",
    "To upload files:  \n",
    "> make sure you are in your home directory (where you paste the writable/editable notebooks) > click the upload icon > select your files to upload"
   ]
  },
  {
   "cell_type": "markdown",
   "id": "04f42d94-a782-4265-a0f8-45e81bd97d4b",
   "metadata": {},
   "source": [
    "# Introduction to Notebooks  \n",
    "\n",
    "This is a notebook! A notebook is composed of different cells which can be used to write markdown text or computer code."
   ]
  },
  {
   "cell_type": "markdown",
   "id": "9016642f-0731-45ad-8412-8117d27892d8",
   "metadata": {},
   "source": [
    "This is a \"Markdown\" cell for writing text, inserting images, videos, links etc. "
   ]
  },
  {
   "cell_type": "code",
   "execution_count": 3,
   "id": "8b29bfc7-c936-4179-a58d-11b70ec69623",
   "metadata": {},
   "outputs": [],
   "source": [
    "## This is a code cell"
   ]
  },
  {
   "cell_type": "markdown",
   "id": "f6bbb6aa-3ae6-4093-840a-fc1370ebf087",
   "metadata": {},
   "source": [
    "N.B. You can select the cell type at the top of this document with the drop down menu. "
   ]
  },
  {
   "cell_type": "markdown",
   "id": "561b8f76-a842-4f20-a0d8-90cf65f94576",
   "metadata": {},
   "source": [
    "Jupyter notebooks therefore allow you to combine code, text, images, visualizations etc. all in one place. You can edit and run code in a notebook which makes it an ideal place to play around and test out code. The possibilities of combining code and text afforded by Notebooks are not only useful as a pedagogical and learning environment, but can also offer a way to make our analytical process explicit and to reflect on our analytical process:\n",
    "\n",
    "> \"Notebooks are theory — not merely code as theory but theory as thoughtful engagement with the theoretical work and implications of the code itself. Disciplinary norms— including contextual framing, theory, and self or auto-critique— need to accompany, supplement, and inform any computational criticism. Revealing as much of the code, data, and methods as possible is essential to enable the ongoing disciplinary conversation. Compiling these together in a single object, one that can be exported, shared, examined, and executed by others, produces a dynamic type of theorization that is modular yet tightly bound up with its object.\" (Dobson, James. Critical Digital Humanities: The Search for a Methodology. Urbana-Champaign: University of Illinois Press. (2019) p. 40)"
   ]
  },
  {
   "cell_type": "markdown",
   "id": "67c3f65b-5977-4008-a96d-676dfcde9879",
   "metadata": {},
   "source": [
    "### Editing and running code in notebooks\n",
    "\n",
    "To edit a cell double click the cell. \n",
    "\n",
    "To run a code cell (or render a Markdown cell):  \n",
    "> select the cell (a blue line will appear on the left when the cell is selected) and click the \"play\" icon at the top of the notebook or press shift+enter.\n",
    "\n",
    "Note that the code cells have a pair of square brackets with a colon next to them [ ]:  \n",
    "Once you run a code cell a number will appear on the left. This tells you how many times the cell was run and in what order — this can help you keep track of which cells were run and in what order.  \n",
    "\n",
    "Try running the code cell above a couple of times and see the number in square brackets change.  \n",
    "\n",
    "Now run the cell below:"
   ]
  },
  {
   "cell_type": "code",
   "execution_count": 4,
   "id": "0ecb82ec-8731-4a49-87fe-835a4488c05a",
   "metadata": {},
   "outputs": [
    {
     "name": "stdout",
     "output_type": "stream",
     "text": [
      "Waiting 5 seconds...\n",
      "Done\n"
     ]
    }
   ],
   "source": [
    "print('Waiting 5 seconds...')\n",
    "import time\n",
    "time.sleep(5)\n",
    "print('Done')"
   ]
  },
  {
   "cell_type": "markdown",
   "id": "c6961538-050d-4536-9a54-e28ac7f5d25a",
   "metadata": {},
   "source": [
    "Did you notice the asterisk in the brackets when running the cell? An asterisk displays whilst code is still busy executing, and the number appears when it has finished executing.  \n",
    "\n",
    "Beneath the code cell, any output from running the code will appear. In the case of the cell above \"Waiting 5 second...\" and \"Done\" were printed beneath the cell."
   ]
  },
  {
   "cell_type": "markdown",
   "id": "23f689ae-5525-4506-bc0b-1b7044853864",
   "metadata": {},
   "source": [
    "### Clearing outputs: interrupting and restarting the kernel\n",
    "\n",
    "If your code seems to be getting stuck, or if the flow of execution of the cells has become mixed up, it’s a good idea to make a fresh start and clear all the outputs. \n",
    "\n",
    "To clear the outputs of a single cell:  \n",
    "> select the cell > click Edit tab > select clear output  \n",
    "\n",
    "To clear the output from all cells:  \n",
    "> Edit tab > Clear All Outputs\n",
    "\n",
    "Interrupt and restart the kernel:  \n",
    "> You can click the “stop” and “restart” icons at the top of the notebook (next to the “play” icon)\n",
    "or  \n",
    "> Select Kernel tab and select the options you want (Interrupt Kernel, Restart Kernel).  \n",
    "\n",
    "Clearing outputs clears all outputs from executed code. Restarting the kernel clears the outputs and fires up the backend component that actually runs the code written in the notebook. Notebooks are browser-based documents that run through your browser. Every time you fire up a notebook it runs on a local server on your personal computer (that’s why it sometimes takes some time to load and why you can edit a notebook without altering the “original” notebook). If you restart the kernel it refreshes that environment which runs your notebook."
   ]
  },
  {
   "cell_type": "markdown",
   "id": "891a82a1-2a84-40a2-aa02-a8cc6f05ad94",
   "metadata": {},
   "source": [
    "# Introduction to Python"
   ]
  },
  {
   "cell_type": "markdown",
   "id": "9d96cd9e-0841-43ec-858a-33034b20c2a8",
   "metadata": {},
   "source": [
    "Writing code involves describing a series of steps (detailed instructions) to go through in order to perform a task. Code allows you to specify instructions that the computer will follow. Whilst programming languages are in some ways very rigid — the *exact* syntax and instructions need to be defined in order for it to work — this doesn’t mean there isn’t some degree of flexibility. There are multiple ways of achieving something through code, and people have different coding styles that might differ according to their goals (e.g. is the code efficient? is the code readable? etc.)."
   ]
  },
  {
   "cell_type": "markdown",
   "id": "7e67be36-4b4a-49da-a5a9-24224468a960",
   "metadata": {},
   "source": [
    "### Anatomy of a Python Script"
   ]
  },
  {
   "cell_type": "markdown",
   "id": "f6837dfd-d7d1-4dd7-9cc4-b588fe667600",
   "metadata": {},
   "source": [
    "Here is an example of a programme. The end goal (output) of this programme is to count the most frequent words in a given text. We're going to go through this example script and look at some basics of the Python programming language."
   ]
  },
  {
   "cell_type": "code",
   "execution_count": 18,
   "id": "86d08b18-9d53-400f-9635-bcd0903e18b5",
   "metadata": {
    "scrolled": true,
    "tags": []
   },
   "outputs": [
    {
     "data": {
      "text/plain": [
       "[('gutenberg', 98),\n",
       " ('project', 88),\n",
       " ('tm', 57),\n",
       " ('work', 49),\n",
       " ('1', 47),\n",
       " ('john', 45),\n",
       " ('one', 35),\n",
       " ('works', 33),\n",
       " ('said', 30),\n",
       " ('would', 27),\n",
       " ('see', 27),\n",
       " ('electronic', 27),\n",
       " ('foundation', 25),\n",
       " ('paper', 24),\n",
       " ('get', 24),\n",
       " ('room', 24),\n",
       " ('pattern', 24),\n",
       " ('e', 23),\n",
       " ('terms', 22),\n",
       " ('like', 21),\n",
       " ('little', 20),\n",
       " ('must', 20),\n",
       " ('copyright', 20),\n",
       " ('states', 19),\n",
       " ('license', 18),\n",
       " ('agreement', 18),\n",
       " ('wallpaper', 17),\n",
       " ('use', 17),\n",
       " ('may', 17),\n",
       " ('much', 17),\n",
       " ('good', 16),\n",
       " ('think', 16),\n",
       " ('full', 16),\n",
       " ('know', 16),\n",
       " ('united', 15),\n",
       " ('well', 15),\n",
       " ('go', 15),\n",
       " ('donations', 15),\n",
       " ('away', 14),\n",
       " ('things', 14)]"
      ]
     },
     "execution_count": 18,
     "metadata": {},
     "output_type": "execute_result"
    }
   ],
   "source": [
    "#Importing the libraries and modules we'll need\n",
    "import re\n",
    "from collections import Counter\n",
    "\n",
    "#Defining a function to split our text into words\n",
    "def split_into_words(any_chunk_of_text):\n",
    "    lowercase_text = any_chunk_of_text.lower()\n",
    "    split_words = re.split(\"\\W+\", lowercase_text)\n",
    "    return split_words\n",
    "\n",
    "#Defining variables we're going to need\n",
    "#Giving the path to the text we're going to analyze\n",
    "filepath_of_text = \"gilman.txt\"\n",
    "\n",
    "number_of_desired_words = 40\n",
    "\n",
    "#Defining a list of stopwords\n",
    "stopwords = ['i', 'me', 'my', 'myself', 'we', 'our', 'ours', 'ourselves', 'you', 'your', 'yours',\n",
    " 'yourself', 'yourselves', 'he', 'him', 'his', 'himself', 'she', 'her', 'hers',\n",
    " 'herself', 'it', 'its', 'itself', 'they', 'them', 'their', 'theirs', 'themselves',\n",
    " 'what', 'which', 'who', 'whom', 'this', 'that', 'these', 'those', 'am', 'is', 'are',\n",
    " 'was', 'were', 'be', 'been', 'being', 'have', 'has', 'had', 'having', 'do', 'does',\n",
    " 'did', 'doing', 'a', 'an', 'the', 'and', 'but', 'if', 'or', 'because', 'as', 'until',\n",
    " 'while', 'of', 'at', 'by', 'for', 'with', 'about', 'against', 'between', 'into',\n",
    " 'through', 'during', 'before', 'after', 'above', 'below', 'to', 'from', 'up', 'down',\n",
    " 'in', 'out', 'on', 'off', 'over', 'under', 'again', 'further', 'then', 'once', 'here',\n",
    " 'there', 'when', 'where', 'why', 'how', 'all', 'any', 'both', 'each', 'few', 'more',\n",
    " 'most', 'other', 'some', 'such', 'no', 'nor', 'not', 'only', 'own', 'same', 'so',\n",
    " 'than', 'too', 'very', 's', 't', 'can', 'will', 'just', 'don', 'should', 'now', 've', 'll', 'amp']\n",
    "\n",
    "#Opening and Reading the text to analyze it\n",
    "full_text = open(filepath_of_text, encoding=\"utf-8\").read()\n",
    "\n",
    "#Splitting the text into words by using our previously defined function\n",
    "all_the_words = split_into_words(full_text)\n",
    "\n",
    "#Making a list of words with our stopwords removed\n",
    "meaningful_words = []\n",
    "for word in all_the_words:\n",
    "        if word not in stopwords:\n",
    "            meaningful_words.append(word)\n",
    "\n",
    "\"\"\" Another way of writing this for loop\n",
    "meaningful_words = [word for word in all_the_words if word not in stopwords] \"\"\"\n",
    "\n",
    "#Counting how many times each word in our \"meaningful_words\" list appears\n",
    "meaningful_words_tally = Counter(meaningful_words)\n",
    "\n",
    "#Pulling out the top 40 most frequently occurring words from our complete tally using hte \"most_common\" method\n",
    "most_frequent_meaningful_words = meaningful_words_tally.most_common(number_of_desired_words)\n",
    "\n",
    "#Display these top 40 most frequent words\n",
    "most_frequent_meaningful_words"
   ]
  },
  {
   "cell_type": "markdown",
   "id": "83620919-69ea-462d-b663-8330d006b222",
   "metadata": {},
   "source": [
    "#### Imports\n",
    "\n",
    "There is a lot of code that has already been written, and writing your own code can mostly involve adapting code already written by others to your own needs.  \n",
    "\n",
    "At the top of a program, it is common to import any libraries or modules you might need later on in the program.  \n",
    "\n",
    "Python incudes many libraries (importable packages of already written code) that can do different things. In this case we are importing the library `re` (for regular expressions, which will allow us to use regular expressions to clean up our text) and from the `collections` library we’re importing the module `Counter` (which will allow us to count things)."
   ]
  },
  {
   "cell_type": "code",
   "execution_count": null,
   "id": "619512a9-95a4-461a-9f89-faeb91342a82",
   "metadata": {},
   "outputs": [],
   "source": [
    "import re\n",
    "from collections import Counter"
   ]
  },
  {
   "cell_type": "markdown",
   "id": "844a744d-751e-40d8-8cbd-6b7e6ba136a5",
   "metadata": {},
   "source": [
    "Remember the “Zen of Python” that we read when we were reading manifestos? The “Easter Egg” it refereed to in that manifesto is that there is a module in Python (called `this`) that prints the “Zen of Python” when you import it."
   ]
  },
  {
   "cell_type": "code",
   "execution_count": 2,
   "id": "32cd1944-3673-4a93-9946-5187d6948d12",
   "metadata": {},
   "outputs": [
    {
     "name": "stdout",
     "output_type": "stream",
     "text": [
      "The Zen of Python, by Tim Peters\n",
      "\n",
      "Beautiful is better than ugly.\n",
      "Explicit is better than implicit.\n",
      "Simple is better than complex.\n",
      "Complex is better than complicated.\n",
      "Flat is better than nested.\n",
      "Sparse is better than dense.\n",
      "Readability counts.\n",
      "Special cases aren't special enough to break the rules.\n",
      "Although practicality beats purity.\n",
      "Errors should never pass silently.\n",
      "Unless explicitly silenced.\n",
      "In the face of ambiguity, refuse the temptation to guess.\n",
      "There should be one-- and preferably only one --obvious way to do it.\n",
      "Although that way may not be obvious at first unless you're Dutch.\n",
      "Now is better than never.\n",
      "Although never is often better than *right* now.\n",
      "If the implementation is hard to explain, it's a bad idea.\n",
      "If the implementation is easy to explain, it may be a good idea.\n",
      "Namespaces are one honking great idea -- let's do more of those!\n"
     ]
    }
   ],
   "source": [
    "import this"
   ]
  },
  {
   "cell_type": "markdown",
   "id": "f6c6e2ab-2221-4b11-b71d-3342a9769299",
   "metadata": {},
   "source": [
    "#### Functions\n",
    "\n",
    "Functions are bundles of code that performs a particular task. Often a function involves giving some kind of input to the function (called “arguments” that you give to the function in brackets), the function then performs its task on the input and returns an output (the result of its task on this particular input).\n",
    "\n",
    "Python has a number of prewritten (or built-in) functions. For example, the function `print()` will print to the screen the argument you give it.  \n",
    "\n",
    "Run the cell below and then try adding your name to “Hello!” and run the cell again. "
   ]
  },
  {
   "cell_type": "code",
   "execution_count": 5,
   "id": "43c93846-31b1-4a37-9549-d7a37cc9c4f1",
   "metadata": {},
   "outputs": [
    {
     "name": "stdout",
     "output_type": "stream",
     "text": [
      "Hello!\n"
     ]
    }
   ],
   "source": [
    "print(\"Hello!\")"
   ]
  },
  {
   "cell_type": "markdown",
   "id": "4eae5e8e-9268-4471-a8a6-2b84f624e459",
   "metadata": {},
   "source": [
    "Functions performs different tasks. Look how the same input with a different function returns a different results (can you guess what this `len()` function does from the returned output?):"
   ]
  },
  {
   "cell_type": "code",
   "execution_count": 4,
   "id": "da4e404d-089f-4a43-bd2b-f8c8cc4c5661",
   "metadata": {},
   "outputs": [
    {
     "data": {
      "text/plain": [
       "6"
      ]
     },
     "execution_count": 4,
     "metadata": {},
     "output_type": "execute_result"
    }
   ],
   "source": [
    "len(\"Hello!\")"
   ]
  },
  {
   "cell_type": "markdown",
   "id": "54654c82-406f-4b66-b9fe-d24045a060fa",
   "metadata": {},
   "source": [
    "You can also write your own functions. This is called defining a function. \n",
    "\n",
    "It is useful to make your own functions you want to bundle together a series of steps to achieve a particular goal. This make the code neater and easier to manage. It also means you can reuse that function anywhere in the code, you just have to “call” it by its name. \n",
    "\n",
    "In this case we have defined a function to split words from our text that takes `any_chunk_of_text` as its argument."
   ]
  },
  {
   "cell_type": "code",
   "execution_count": null,
   "id": "dad04697-fc3b-4cd5-8d46-95cd3ab2f271",
   "metadata": {},
   "outputs": [],
   "source": [
    "def split_into_words(any_chunk_of_text):\n",
    "    lowercase_text = any_chunk_of_text.lower()\n",
    "    split_words = re.split(\"\\W+\", lowercase_text)\n",
    "    return split_words"
   ]
  },
  {
   "cell_type": "markdown",
   "id": "781c74df-9eb1-4aee-a10c-2d0af218c958",
   "metadata": {},
   "source": [
    "#### Variables\n",
    "\n",
    "Next in our program we see we have defined some “variables”. \n",
    "\n",
    "Variables are like containers that store information. You assign to a variable value that you want to use later. Then you only need to use the name of the variable later on. The value of a variable can be overwritten if you assign a new value to the same name. \n",
    "\n",
    "You can give a variable almost any name you want, but there are a few limitations. The name can’t start with a number (it needs to start with a letter), there can be no spaced in the name and no punctuation apart from underscore (_), and it cannot be a python reserve word (a word that already has a specific meaning in the python language). \n",
    "\n",
    "For example here we assign the value `“Hello!”`to a variable called greeting. And then we can pass that value to a function such as print instead of writing out “Hello!” again."
   ]
  },
  {
   "cell_type": "code",
   "execution_count": 6,
   "id": "2ee54f52-547c-4847-b721-2515d43b5b27",
   "metadata": {},
   "outputs": [
    {
     "name": "stdout",
     "output_type": "stream",
     "text": [
      "Hello!\n"
     ]
    }
   ],
   "source": [
    "greeting = \"Hello!\"\n",
    "print(greeting)"
   ]
  },
  {
   "cell_type": "markdown",
   "id": "96a7d7a1-5973-410f-a350-93319e5f90b4",
   "metadata": {},
   "source": [
    "#### Data Types\n",
    "\n",
    "Notice how the variables we have assigned in our program look a bit different. One is a number that appears in green. The other are some words that appear in red in between quotation marks. \n",
    "\n",
    "This is because number and words are different data types. depending on what type of data something is, with different rules about what you can do with them and use them."
   ]
  },
  {
   "cell_type": "code",
   "execution_count": null,
   "id": "fd1a8c95-15e1-47ca-a68f-46cb40901e6c",
   "metadata": {},
   "outputs": [],
   "source": [
    "filepath_to_text = \"notebooks/gilman.txt\"\n",
    "\n",
    "number_of_desired_words = 40"
   ]
  },
  {
   "cell_type": "markdown",
   "id": "0965092f-8f00-46fa-81f2-d12397fff813",
   "metadata": {},
   "source": [
    "The function `type()` returns what type of data something is:"
   ]
  },
  {
   "cell_type": "code",
   "execution_count": 8,
   "id": "4f0bf3ea-7899-4324-9736-0b45401a4858",
   "metadata": {},
   "outputs": [
    {
     "data": {
      "text/plain": [
       "str"
      ]
     },
     "execution_count": 8,
     "metadata": {},
     "output_type": "execute_result"
    }
   ],
   "source": [
    "type(\"Hello!\")"
   ]
  },
  {
   "cell_type": "markdown",
   "id": "1a2583ec-9675-485e-a37c-fe2f2df64538",
   "metadata": {},
   "source": [
    "Let’s start by looking at four basic data types: \n",
    "\n",
    "*String*: strings store characters such as letters or numbers. String are essentially text. To specify something is a string you need to write it in “quotation marks” (both ‘sing’ or “double” quotation marks work)\n",
    "\n",
    "Try finding out what data type these examples are below using the `type()` function:"
   ]
  },
  {
   "cell_type": "code",
   "execution_count": 9,
   "id": "2ff95b90-6c83-4048-91fe-797ca690b5c6",
   "metadata": {},
   "outputs": [
    {
     "data": {
      "text/plain": [
       "str"
      ]
     },
     "execution_count": 9,
     "metadata": {},
     "output_type": "execute_result"
    }
   ],
   "source": [
    "example = 'forty'\n",
    "another_example = \"40\"\n",
    "a_final_example = 40\n",
    "type(example)"
   ]
  },
  {
   "cell_type": "markdown",
   "id": "72e10289-38f4-4645-ab79-b3c4d8acb8ca",
   "metadata": {},
   "source": [
    "As you can see, the final example is a not a string (or text), it was not written in quotation marks. It is an *integer* (i.e. a whole number). Decimal numbers in python are called *floats*. \n",
    "\n",
    "How would you find out what type of data our variables are below using `type()`?"
   ]
  },
  {
   "cell_type": "code",
   "execution_count": 10,
   "id": "1040e237-2f44-4278-ad28-955abdc60d56",
   "metadata": {},
   "outputs": [],
   "source": [
    "filepath_to_text = \"notebooks/gilman.txt\"\n",
    "\n",
    "number_of_desired_words = 40"
   ]
  },
  {
   "cell_type": "markdown",
   "id": "c6ce652a-6f76-47a9-bc59-94828dbbd957",
   "metadata": {},
   "source": []
  },
  {
   "cell_type": "code",
   "execution_count": 11,
   "id": "18164612-9428-4af7-9759-b66969431cca",
   "metadata": {},
   "outputs": [
    {
     "data": {
      "text/plain": [
       "list"
      ]
     },
     "execution_count": 11,
     "metadata": {},
     "output_type": "execute_result"
    }
   ],
   "source": [
    "stopwords = ['i', 'me', 'my', 'myself', 'we', 'our', 'ours', 'ourselves', 'you', 'your', 'yours',\n",
    " 'yourself', 'yourselves', 'he', 'him', 'his', 'himself', 'she', 'her', 'hers',\n",
    " 'herself', 'it', 'its', 'itself', 'they', 'them', 'their', 'theirs', 'themselves',\n",
    " 'what', 'which', 'who', 'whom', 'this', 'that', 'these', 'those', 'am', 'is', 'are',\n",
    " 'was', 'were', 'be', 'been', 'being', 'have', 'has', 'had', 'having', 'do', 'does',\n",
    " 'did', 'doing', 'a', 'an', 'the', 'and', 'but', 'if', 'or', 'because', 'as', 'until',\n",
    " 'while', 'of', 'at', 'by', 'for', 'with', 'about', 'against', 'between', 'into',\n",
    " 'through', 'during', 'before', 'after', 'above', 'below', 'to', 'from', 'up', 'down',\n",
    " 'in', 'out', 'on', 'off', 'over', 'under', 'again', 'further', 'then', 'once', 'here',\n",
    " 'there', 'when', 'where', 'why', 'how', 'all', 'any', 'both', 'each', 'few', 'more',\n",
    " 'most', 'other', 'some', 'such', 'no', 'nor', 'not', 'only', 'own', 'same', 'so',\n",
    " 'than', 'too', 'very', 's', 't', 'can', 'will', 'just', 'don', 'should', 'now', 've', 'll', 'amp']\n",
    "\n",
    "type(stopwords)"
   ]
  },
  {
   "cell_type": "code",
   "execution_count": null,
   "id": "5115d76d-656a-4f24-b61f-e79ee4b9e52b",
   "metadata": {},
   "outputs": [],
   "source": []
  }
 ],
 "metadata": {
  "kernelspec": {
   "display_name": "Python 3 (ipykernel)",
   "language": "python",
   "name": "python3"
  },
  "language_info": {
   "codemirror_mode": {
    "name": "ipython",
    "version": 3
   },
   "file_extension": ".py",
   "mimetype": "text/x-python",
   "name": "python",
   "nbconvert_exporter": "python",
   "pygments_lexer": "ipython3",
   "version": "3.9.10"
  }
 },
 "nbformat": 4,
 "nbformat_minor": 5
}
