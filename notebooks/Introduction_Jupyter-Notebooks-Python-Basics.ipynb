{
 "cells": [
  {
   "cell_type": "markdown",
   "id": "c5ad3708-ed6d-4ffd-83e8-0865e517a610",
   "metadata": {
    "tags": []
   },
   "source": [
    "# Jupyter\n",
    "\n",
    "### Acessing JupyterHub\n",
    "\n",
    "Got to https://jhub.dartmouth.edu/  \n",
    "Log in usng your university credentials  \n",
    "Click start my server  \n",
    "Select \"COLT 70 -- Spring 2022\"\n",
    "It may take some time for the server to start up  \n",
    "\n",
    "### Editing a Notebook\n",
    "\n",
    "At this point you can only view a Notebook.  \n",
    "In order to be able to edit the Notebook:  ...........\n",
    "\n",
    "\n",
    "\n",
    "### Uploading files\n",
    "\n",
    "To upload files, once you able to edit the notebooks, click the upload icon on the left and select your files to upload. \n",
    "\n"
   ]
  },
  {
   "cell_type": "markdown",
   "id": "04f42d94-a782-4265-a0f8-45e81bd97d4b",
   "metadata": {},
   "source": [
    "# Introduction to Notebooks  \n",
    "\n",
    "This is a notebook! A notebook is composed of different cells which can be used to write markdown text or computer code."
   ]
  },
  {
   "cell_type": "markdown",
   "id": "9016642f-0731-45ad-8412-8117d27892d8",
   "metadata": {},
   "source": [
    "This is a \"Markdown\" cell for writing text, inserting images, videos, links etc. "
   ]
  },
  {
   "cell_type": "code",
   "execution_count": 3,
   "id": "8b29bfc7-c936-4179-a58d-11b70ec69623",
   "metadata": {},
   "outputs": [],
   "source": [
    "## This is a code cell"
   ]
  },
  {
   "cell_type": "markdown",
   "id": "f6bbb6aa-3ae6-4093-840a-fc1370ebf087",
   "metadata": {},
   "source": [
    "N.B. You can select the cell type at the top of this document with the drop down menu. "
   ]
  },
  {
   "cell_type": "markdown",
   "id": "561b8f76-a842-4f20-a0d8-90cf65f94576",
   "metadata": {},
   "source": [
    "Jupyter notebooks therefore allow you to combine code, text, images etc. all in one place. You can edit and run code in a notebook which makes it an ideal place to play around and test out code. The possibilities of combining code and text afforded b Notebooks are not only useful as a pedagogical and learning environment, but can also offer a way to make our analytical process explicit and to reflect on our analytical process:\n",
    "\n",
    "> \"Notebooks are theory — not merely code as theory but theory as thoughtful engagement with the theoretical work and implications of the code itself. Disciplinary norms— including contextual framing, theory, and self or auto-critique— need to accompany, supplement, and inform any computational criticism. Revealing as much of the code, data, and methods as possible is essential to enable the ongoing disciplinary conversation. Compiling these together in a single object, one that can be exported, shared, examined, and executed by others, produces a dynamic type of theorization that is modular yet tightly bound up with its object.\" (Dobson, James. Critical Digital Humanities: The Search for a Methodology. Urbana-Champaign: University of Illinois Press. (2019) p. 40)"
   ]
  },
  {
   "cell_type": "markdown",
   "id": "67c3f65b-5977-4008-a96d-676dfcde9879",
   "metadata": {},
   "source": [
    "### Editing and running code in notebooks\n",
    "\n",
    "To edit a cell double click the cell. \n",
    "\n",
    "To run a code cell (or render a Markdown cell):  \n",
    "> select the cell (a blue line will appear on the left when the cell is selected) and click the \"play\" icon at the top of the notebook or press shift+enter.\n",
    "\n",
    "Note that the code cells have a pair of square brackets with a colon next to them [ ]:  \n",
    "Once you run a code cell a number will appear on the left. This tells you how many times the cell was run and in what order — this can help you keep track of which cells were run and in what order.  \n",
    "\n",
    "Try running the code cell above a couple of times and see the number in square brackets change.  \n",
    "\n",
    "Now run the cell below:"
   ]
  },
  {
   "cell_type": "code",
   "execution_count": 4,
   "id": "0ecb82ec-8731-4a49-87fe-835a4488c05a",
   "metadata": {},
   "outputs": [
    {
     "name": "stdout",
     "output_type": "stream",
     "text": [
      "Waiting 5 seconds...\n",
      "Done\n"
     ]
    }
   ],
   "source": [
    "print('Waiting 5 seconds...')\n",
    "import time\n",
    "time.sleep(5)\n",
    "print('Done')"
   ]
  },
  {
   "cell_type": "markdown",
   "id": "c6961538-050d-4536-9a54-e28ac7f5d25a",
   "metadata": {},
   "source": [
    "Did you notice the asterisk in the brackets when running the cell? An asterisk displays whilst code is still busy executing, and the number appears when it has finished executing.  \n",
    "\n",
    "Beneath the code cell, any output from running the code will appear. In the case of the cell above \"Waiting 5 second...\" and \"Done\" were printed beneath the cell."
   ]
  },
  {
   "cell_type": "markdown",
   "id": "23f689ae-5525-4506-bc0b-1b7044853864",
   "metadata": {},
   "source": [
    "### Clearing outputs: interrupting and restarting the kernel\n",
    "\n",
    "If your code seems to be getting stuck, or if the flow of execution of the cells has become mixed up, it’s a good idea to make a fresh start and clear all the outputs. \n",
    "\n",
    "To clear the outputs of a single cell:  \n",
    "> select the cell > click Edit tab > select clear output  \n",
    "\n",
    "To clear the output from all cells:  \n",
    "> Edit tab > Clear All Outputs\n",
    "\n",
    "Interrupt and restart the kernel:  \n",
    "> You can click the “stop” and “restart” icons at the top of the notebook (next to the “play” icon)\n",
    "or  \n",
    "> Select Kernel tab and select the options you want (Interrupt Kernel, Restart Kernel).  \n",
    "\n",
    "Clearing outputs clears all outputs from executed code. Restarting the kernel clears the outputs and fires up the backend component that actually runs the code written in the notebook. Notebooks are browser-based documents that run through your browser. Every time you fire up a notebook it runs on a local server on your personal computer (that’s why it sometimes takes some time to load and why you can edit a notebook without altering the “original” notebook). If you restart the kernel it refreshes that environment which runs your notebook."
   ]
  },
  {
   "cell_type": "markdown",
   "id": "891a82a1-2a84-40a2-aa02-a8cc6f05ad94",
   "metadata": {},
   "source": [
    "# Introduction to Python"
   ]
  },
  {
   "cell_type": "code",
   "execution_count": null,
   "id": "b4a6c538-33a4-4012-9df0-8f263bfb0436",
   "metadata": {},
   "outputs": [],
   "source": []
  }
 ],
 "metadata": {
  "kernelspec": {
   "display_name": "Python 3 (ipykernel)",
   "language": "python",
   "name": "python3"
  },
  "language_info": {
   "codemirror_mode": {
    "name": "ipython",
    "version": 3
   },
   "file_extension": ".py",
   "mimetype": "text/x-python",
   "name": "python",
   "nbconvert_exporter": "python",
   "pygments_lexer": "ipython3",
   "version": "3.9.10"
  }
 },
 "nbformat": 4,
 "nbformat_minor": 5
}
