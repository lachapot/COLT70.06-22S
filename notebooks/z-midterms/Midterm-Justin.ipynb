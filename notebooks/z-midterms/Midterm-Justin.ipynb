{
 "cells": [
  {
   "cell_type": "code",
   "execution_count": 2,
   "id": "9465803e-822f-4d06-8b2c-39cbc37e86f7",
   "metadata": {},
   "outputs": [],
   "source": [
    "from bs4 import BeautifulSoup\n",
    "import requests\n",
    "\n",
    "URLs_to_visit = ['https://avalon.law.yale.edu/imt/v1-09.asp', 'https://avalon.law.yale.edu/imt/v1-10.asp', 'https://avalon.law.yale.edu/imt/v1-11.asp']\n",
    "\n",
    "for links in URLs_to_visit:\n",
    "    URL = links\n",
    "    page = requests.get(URL)\n",
    "    soup = BeautifulSoup(page.content, \"html.parser\")\n",
    "\n",
    "    result = soup.find_all('p')\n",
    "\n",
    "    f = open(\"transcript-of-nuremberg-trials.txt\", \"a\")\n",
    "\n",
    "    for r in result:\n",
    "        f.write(r.text)\n",
    "\n",
    "f.close()"
   ]
  },
  {
   "cell_type": "code",
   "execution_count": 3,
   "id": "6495bada-177c-4aff-aeb8-07108d6cbf29",
   "metadata": {},
   "outputs": [],
   "source": [
    "#French Reaction to Nuremberg Trials\n",
    "from bs4 import BeautifulSoup\n",
    "import requests\n",
    "\n",
    "URL = 'https://journals.openedition.org/allemagne/2053'\n",
    "page = requests.get(URL)\n",
    "soup = BeautifulSoup(page.content, \"html.parser\")\n",
    "\n",
    "result = soup.find_all('p')\n",
    "\n",
    "f = open(\"french-perspective.txt\", \"a\")\n",
    "\n",
    "for r in result:\n",
    "    f.write(r.text)\n",
    "    \n",
    "f.close()"
   ]
  },
  {
   "cell_type": "code",
   "execution_count": null,
   "id": "517ec7cb-99f3-4b0d-9778-5dad0d6517e7",
   "metadata": {},
   "outputs": [],
   "source": []
  }
 ],
 "metadata": {
  "kernelspec": {
   "display_name": "Python 3 (ipykernel)",
   "language": "python",
   "name": "python3"
  },
  "language_info": {
   "codemirror_mode": {
    "name": "ipython",
    "version": 3
   },
   "file_extension": ".py",
   "mimetype": "text/x-python",
   "name": "python",
   "nbconvert_exporter": "python",
   "pygments_lexer": "ipython3",
   "version": "3.9.10"
  }
 },
 "nbformat": 4,
 "nbformat_minor": 5
}
